{
  "cells": [
    {
      "cell_type": "markdown",
      "metadata": {},
      "source": [
        "-sandbox\n",
        "# MAGIC\n",
        "<div style=\"text-align: center; line-height: 0; padding-top: 9px;\">\n",
        "  <img src=\"https://databricks.com/wp-content/uploads/2018/03/db-academy-rgb-1200px.png\" alt=\"Databricks Learning\" style=\"width: 600px\">\n",
        "</div>"
      ]
    },
    {
      "cell_type": "markdown",
      "metadata": {},
      "source": [
        "# MAGIC\n",
        "# LLMs with Hugging Face\n",
        "# MAGIC\n",
        "In this notebook, we'll take a whirlwind tour of some top applications using Large Language Models (LLMs):\n",
        "* Summarization\n",
        "* Sentiment analysis\n",
        "* Translation\n",
        "* Zero-shot classification\n",
        "* Few-shot learning\n",
        "# MAGIC\n",
        "We will see how existing, open-source (and proprietary) models can be used out-of-the-box for many applications.  For this, we will use [Hugging Face models](https://huggingface.co/models) and some simple prompt engineering.\n",
        "# MAGIC\n",
        "We will then look at Hugging Face APIs in more detail to understand how to configure LLM pipelines.\n",
        "# MAGIC\n",
        "### ![Dolly](https://files.training.databricks.com/images/llm/dolly_small.png) Learning Objectives\n",
        "1. Use a variety of existing models for a variety of common applications.\n",
        "1. Understand basic prompt engineering.\n",
        "1. Understand search vs. sampling for LLM inference.\n",
        "1. Get familiar with the main Hugging Face abstractions: datasets, pipelines, tokenizers, and models."
      ]
    },
    {
      "cell_type": "markdown",
      "metadata": {},
      "source": [
        "# MAGIC\n",
        "## Classroom Setup"
      ]
    },
    {
      "cell_type": "markdown",
      "metadata": {},
      "source": [
        "Libraries:\n",
        "* [sacremoses](https://github.com/alvations/sacremoses) is for the translation model `Helsinki-NLP/opus-mt-en-es`"
      ]
    },
    {
      "cell_type": "code",
      "metadata": {},
      "source": [
        "# MAGIC %pip install sacremoses==0.0.53"
      ],
      "outputs": [],
      "execution_count": null
    },
    {
      "cell_type": "code",
      "metadata": {},
      "source": [
        "# MAGIC %run ../Includes/Classroom-Setup"
      ],
      "outputs": [],
      "execution_count": null
    },
    {
      "cell_type": "markdown",
      "metadata": {},
      "source": [
        " ## Common LLM applications\n",
        "# MAGIC\n",
        "The goal of this section is to get your feet wet with several LLM applications and to show how easy it can be to get started with LLMs.\n",
        "# MAGIC\n",
        "As you go through the examples, note the datasets, models, APIs, and options used.  These simple examples can be starting points when you need to build your own application."
      ]
    },
    {
      "cell_type": "code",
      "metadata": {},
      "source": [
        "from datasets import load_dataset\n",
        "from transformers import pipeline"
      ],
      "outputs": [],
      "execution_count": null
    },
    {
      "cell_type": "markdown",
      "metadata": {},
      "source": [
        " ### Summarization\n",
        "# MAGIC\n",
        "Summarization can take two forms:\n",
        "* `extractive` (selecting representative excerpts from the text)\n",
        "* `abstractive` (generating novel text summaries)\n",
        "# MAGIC\n",
        "Here, we will use a model which does *abstractive* summarization.\n",
        "# MAGIC\n",
        "**Background reading**: The [Hugging Face summarization task page](https://huggingface.co/docs/transformers/tasks/summarization) lists model architectures which support summarization. The [summarization course chapter](https://huggingface.co/course/chapter7/5) provides a detailed walkthrough.\n",
        "# MAGIC\n",
        "In this section, we will use:\n",
        "* **Data**: [xsum](https://huggingface.co/datasets/xsum) dataset, which provides a set of BBC articles and summaries.\n",
        "* **Model**: [t5-small](https://huggingface.co/t5-small) model, which has 60 million parameters (242MB for PyTorch).  T5 is an encoder-decoder model created by Google which supports several tasks such as summarization, translation, Q&A, and text classification.  For more details, see the [Google blog post](https://ai.googleblog.com/2020/02/exploring-transfer-learning-with-t5.html), [code on GitHub](https://github.com/google-research/text-to-text-transfer-transformer), or the [research paper](https://arxiv.org/pdf/1910.10683.pdf)."
      ]
    },
    {
      "cell_type": "code",
      "metadata": {},
      "source": [
        "xsum_dataset = load_dataset(\n",
        "    \"xsum\", version=\"1.2.0\", cache_dir=DA.paths.datasets\n",
        ")  # Note: We specify cache_dir to use predownloaded data.\n",
        "xsum_dataset  # The printed representation of this object shows the `num_rows` of each dataset split."
      ],
      "outputs": [],
      "execution_count": null
    },
    {
      "cell_type": "markdown",
      "metadata": {},
      "source": [
        " This dataset provides 3 columns:\n",
        "* `document`: the BBC article text\n",
        "* `summary`: a \"ground-truth\" summary --> Note how subjective this \"ground-truth\" is.  Is this the same summary you would write?  This a great example of how many LLM applications do not have obvious \"right\" answers.\n",
        "* `id`: article ID"
      ]
    },
    {
      "cell_type": "code",
      "metadata": {},
      "source": [
        "xsum_sample = xsum_dataset[\"train\"].select(range(10))\n",
        "display(xsum_sample.to_pandas())"
      ],
      "outputs": [],
      "execution_count": null
    },
    {
      "cell_type": "markdown",
      "metadata": {},
      "source": [
        " We next use the Hugging Face `pipeline` tool to load a pre-trained model.  In this LLM pipeline constructor, we specify:\n",
        "* `task`: This first argument specifies the primary task.  See [Hugging Face tasks](https://huggingface.co/tasks) for more information.\n",
        "* `model`: This is the name of the pre-trained model from the [Hugging Face Hub](https://huggingface.co/models).\n",
        "* `min_length`, `max_length`: We want our generated summaries to be between these two token lengths.\n",
        "* `truncation`: Some input articles may be too long for the LLM to process.  Most LLMs have fixed limits on the length of input sequences.  This option tells the pipeline to truncate the input if needed."
      ]
    },
    {
      "cell_type": "code",
      "metadata": {},
      "source": [
        "summarizer = pipeline(\n",
        "    task=\"summarization\",\n",
        "    model=\"t5-small\",\n",
        "    min_length=20,\n",
        "    max_length=40,\n",
        "    truncation=True,\n",
        "    model_kwargs={\"cache_dir\": DA.paths.datasets},\n",
        ")  # Note: We specify cache_dir to use predownloaded models."
      ],
      "outputs": [],
      "execution_count": null
    },
    {
      "cell_type": "code",
      "metadata": {},
      "source": [
        "# Apply to 1 article\n",
        "summarizer(xsum_sample[\"document\"][0])"
      ],
      "outputs": [],
      "execution_count": null
    },
    {
      "cell_type": "code",
      "metadata": {},
      "source": [
        "# Apply to a batch of articles\n",
        "results = summarizer(xsum_sample[\"document\"])"
      ],
      "outputs": [],
      "execution_count": null
    },
    {
      "cell_type": "code",
      "metadata": {},
      "source": [
        "# Display the generated summary side-by-side with the reference summary and original document.\n",
        "# We use Pandas to join the inputs and outputs together in a nice format.\n",
        "import pandas as pd\n",
        "\n",
        "display(\n",
        "    pd.DataFrame.from_dict(results)\n",
        "    .rename({\"summary_text\": \"generated_summary\"}, axis=1)\n",
        "    .join(pd.DataFrame.from_dict(xsum_sample))[\n",
        "        [\"generated_summary\", \"summary\", \"document\"]\n",
        "    ]\n",
        ")"
      ],
      "outputs": [],
      "execution_count": null
    },
    {
      "cell_type": "markdown",
      "metadata": {},
      "source": [
        " ### Sentiment analysis\n",
        "# MAGIC\n",
        "Sentiment analysis is a text classification task of estimating whether a piece of text is positive, negative, or another \"sentiment\" label.  The precise set of sentiment labels can vary across applications.\n",
        "# MAGIC\n",
        "**Background reading**: See the Hugging Face [task page on text classification](https://huggingface.co/tasks/text-classification) or [Wikipedia on sentiment analysis](https://en.wikipedia.org/wiki/Sentiment_analysis).\n",
        "# MAGIC\n",
        "In this section, we will use:\n",
        "* **Data**: [poem sentiment](https://huggingface.co/datasets/poem_sentiment) dataset, which provides lines from poems tagged with sentiments `negative` (0), `positive` (1), `no_impact` (2), or `mixed` (3).\n",
        "* **Model**: [fine-tuned version of BERT](https://huggingface.co/nickwong64/bert-base-uncased-poems-sentiment).  BERT, or Bidirectional Encoder Representations from Transformers, is an encoder-only model from Google usable for 11+ tasks such as sentiment analysis and entity recognition.  For more details, see this [Hugging Face blog post](https://huggingface.co/blog/bert-101) or the [Wikipedia page](https://en.wikipedia.org/wiki/BERT_&#40;language_model&#41;)."
      ]
    },
    {
      "cell_type": "code",
      "metadata": {},
      "source": [
        "poem_dataset = load_dataset(\n",
        "    \"poem_sentiment\", version=\"1.0.0\", cache_dir=DA.paths.datasets\n",
        ")\n",
        "poem_sample = poem_dataset[\"train\"].select(range(10))\n",
        "display(poem_sample.to_pandas())"
      ],
      "outputs": [],
      "execution_count": null
    },
    {
      "cell_type": "markdown",
      "metadata": {},
      "source": [
        " We load the pipeline using the task `text-classification` since we want to classify text with a fixed set of labels."
      ]
    },
    {
      "cell_type": "code",
      "metadata": {},
      "source": [
        "sentiment_classifier = pipeline(\n",
        "    task=\"text-classification\",\n",
        "    model=\"nickwong64/bert-base-uncased-poems-sentiment\",\n",
        "    model_kwargs={\"cache_dir\": DA.paths.datasets},\n",
        ")"
      ],
      "outputs": [],
      "execution_count": null
    },
    {
      "cell_type": "code",
      "metadata": {},
      "source": [
        "results = sentiment_classifier(poem_sample[\"verse_text\"])"
      ],
      "outputs": [],
      "execution_count": null
    },
    {
      "cell_type": "code",
      "metadata": {},
      "source": [
        "# Display the predicted sentiment side-by-side with the ground-truth label and original text.\n",
        "# The score indicates the model's confidence in its prediction.\n",
        "\n",
        "# Join predictions with ground-truth data\n",
        "joined_data = (\n",
        "    pd.DataFrame.from_dict(results)\n",
        "    .rename({\"label\": \"predicted_label\"}, axis=1)\n",
        "    .join(pd.DataFrame.from_dict(poem_sample).rename({\"label\": \"true_label\"}, axis=1))\n",
        ")\n",
        "\n",
        "# Change label indices to text labels\n",
        "sentiment_labels = {0: \"negative\", 1: \"positive\", 2: \"no_impact\", 3: \"mixed\"}\n",
        "joined_data = joined_data.replace({\"true_label\": sentiment_labels})\n",
        "\n",
        "display(joined_data[[\"predicted_label\", \"true_label\", \"score\", \"verse_text\"]])"
      ],
      "outputs": [],
      "execution_count": null
    },
    {
      "cell_type": "markdown",
      "metadata": {},
      "source": [
        " ### Translation\n",
        "# MAGIC\n",
        "Translation models may be designed for specific pairs of languages, or they may support more than two languages.  We will see both below.\n",
        "# MAGIC\n",
        "**Background reading**: See the Hugging Face [task page on translation](https://huggingface.co/tasks/translation) or the [Wikipedia page on machine translation](https://en.wikipedia.org/wiki/Machine_translation).\n",
        "# MAGIC\n",
        "In this section, we will use:\n",
        "* **Data**: We will use some example hard-coded sentences.  However, there are a variety of [translation datasets](https://huggingface.co/datasets?task_categories=task_categories:translation&sort=downloads) available from Hugging Face.\n",
        "* **Models**:\n",
        "   * [Helsinki-NLP/opus-mt-en-es](https://huggingface.co/Helsinki-NLP/opus-mt-en-es) is used for the first example of English (\"en\") to Spanish (\"es\") translation.  This model is based on [Marian NMT](https://marian-nmt.github.io/), a neural machine translation framework developed by Microsoft and other researchers.  See the [GitHub page](https://github.com/Helsinki-NLP/Opus-MT) for code and links to related resources.\n",
        "   * [t5-small](https://huggingface.co/t5-small) model, which has 60 million parameters (242MB for PyTorch).  T5 is an encoder-decoder model created by Google which supports several tasks such as summarization, translation, Q&A, and text classification.  For more details, see the [Google blog post](https://ai.googleblog.com/2020/02/exploring-transfer-learning-with-t5.html), [code on GitHub](https://github.com/google-research/text-to-text-transfer-transformer), or the [research paper](https://arxiv.org/pdf/1910.10683.pdf).  For our purposes, it supports translation for English, French, Romanian, and German."
      ]
    },
    {
      "cell_type": "markdown",
      "metadata": {},
      "source": [
        " Some models are designed for specific language-to-language translation.  Below, we use an English-to-Spanish model."
      ]
    },
    {
      "cell_type": "code",
      "metadata": {},
      "source": [
        "en_to_es_translation_pipeline = pipeline(\n",
        "    task=\"translation\",\n",
        "    model=\"Helsinki-NLP/opus-mt-en-es\",\n",
        "    model_kwargs={\"cache_dir\": DA.paths.datasets},\n",
        ")"
      ],
      "outputs": [],
      "execution_count": null
    },
    {
      "cell_type": "code",
      "metadata": {},
      "source": [
        "en_to_es_translation_pipeline(\n",
        "    \"Existing, open-source (and proprietary) models can be used out-of-the-box for many applications.\"\n",
        ")"
      ],
      "outputs": [],
      "execution_count": null
    },
    {
      "cell_type": "markdown",
      "metadata": {},
      "source": [
        " Other models are designed to handle multiple languages.  Below, we show this with `t5-small`.  Note that, since it supports multiple languages (and tasks), we give it an explicit instruction to translate from one language to another."
      ]
    },
    {
      "cell_type": "code",
      "metadata": {},
      "source": [
        "t5_small_pipeline = pipeline(\n",
        "    task=\"text2text-generation\",\n",
        "    model=\"t5-small\",\n",
        "    max_length=50,\n",
        "    model_kwargs={\"cache_dir\": DA.paths.datasets},\n",
        ")"
      ],
      "outputs": [],
      "execution_count": null
    },
    {
      "cell_type": "code",
      "metadata": {},
      "source": [
        "t5_small_pipeline(\n",
        "    \"translate English to French: Existing, open-source (and proprietary) models can be used out-of-the-box for many applications.\"\n",
        ")"
      ],
      "outputs": [],
      "execution_count": null
    },
    {
      "cell_type": "code",
      "metadata": {},
      "source": [
        "t5_small_pipeline(\n",
        "    \"translate English to Romanian: Existing, open-source (and proprietary) models can be used out-of-the-box for many applications.\"\n",
        ")"
      ],
      "outputs": [],
      "execution_count": null
    },
    {
      "cell_type": "markdown",
      "metadata": {},
      "source": [
        " ### Zero-shot classification\n",
        "# MAGIC\n",
        "Zero-shot classification (or zero-shot learning) is the task of classifying a piece of text into one of a few given categories or labels, without having explicitly trained the model to predict those categories beforehand.  The idea appeared in literature before modern LLMs, but recent advances in LLMs have made zero-shot learning much more flexible and powerful.\n",
        "# MAGIC\n",
        "**Background reading**: See the Hugging Face [task page on zero-shot classification](https://huggingface.co/tasks/zero-shot-classification) or [Wikipedia on zero-shot learning](https://en.wikipedia.org/wiki/Zero-shot_learning).\n",
        "# MAGIC\n",
        "In this section, we will use:\n",
        "* **Data**: a few example articles from the [xsum](https://huggingface.co/datasets/xsum) dataset used in the Summarization section above.  Our goal is to label news articles under a few categories.\n",
        "* **Model**: [nli-deberta-v3-small](https://huggingface.co/cross-encoder/nli-deberta-v3-small), a fine-tuned version of the DeBERTa model.  The DeBERTa base model was developed by Microsoft and is one of several models derived from BERT; for more details on DeBERTa, see the [Hugging Face doc page](https://huggingface.co/docs/transformers/model_doc/deberta), the [code on GitHub](https://github.com/microsoft/DeBERTa), or the [research paper](https://arxiv.org/abs/2006.03654)."
      ]
    },
    {
      "cell_type": "code",
      "metadata": {},
      "source": [
        "zero_shot_pipeline = pipeline(\n",
        "    task=\"zero-shot-classification\",\n",
        "    model=\"cross-encoder/nli-deberta-v3-small\",\n",
        "    model_kwargs={\"cache_dir\": DA.paths.datasets},\n",
        ")\n",
        "\n",
        "\n",
        "def categorize_article(article: str) -> None:\n",
        "    \"\"\"\n",
        "    This helper function defines the categories (labels) which the model must use to label articles.\n",
        "    Note that our model was NOT fine-tuned to use these specific labels,\n",
        "    but it \"knows\" what the labels mean from its more general training.\n",
        "\n",
        "    This function then prints out the predicted labels alongside their confidence scores.\n",
        "    \"\"\"\n",
        "    results = zero_shot_pipeline(\n",
        "        article,\n",
        "        candidate_labels=[\n",
        "            \"politics\",\n",
        "            \"finance\",\n",
        "            \"sports\",\n",
        "            \"science and technology\",\n",
        "            \"pop culture\",\n",
        "            \"breaking news\",\n",
        "        ],\n",
        "    )\n",
        "    # Print the results nicely\n",
        "    del results[\"sequence\"]\n",
        "    display(pd.DataFrame(results))"
      ],
      "outputs": [],
      "execution_count": null
    },
    {
      "cell_type": "code",
      "metadata": {},
      "source": [
        "categorize_article(\n",
        "    \"\"\"\n",
        "Simone Favaro got the crucial try with the last move of the game, following earlier touchdowns by Chris Fusaro, Zander Fagerson and Junior Bulumakau.\n",
        "Rynard Landman and Ashton Hewitt got a try in either half for the Dragons.\n",
        "Glasgow showed far superior strength in depth as they took control of a messy match in the second period.\n",
        "Home coach Gregor Townsend gave a debut to powerhouse Fijian-born Wallaby wing Taqele Naiyaravoro, and centre Alex Dunbar returned from long-term injury, while the Dragons gave first starts of the season to wing Aled Brew and hooker Elliot Dee.\n",
        "Glasgow lost hooker Pat McArthur to an early shoulder injury but took advantage of their first pressure when Rory Clegg slotted over a penalty on 12 minutes.\n",
        "It took 24 minutes for a disjointed game to produce a try as Sarel Pretorius sniped from close range and Landman forced his way over for Jason Tovey to convert - although it was the lock's last contribution as he departed with a chest injury shortly afterwards.\n",
        "Glasgow struck back when Fusaro drove over from a rolling maul on 35 minutes for Clegg to convert.\n",
        "But the Dragons levelled at 10-10 before half-time when Naiyaravoro was yellow-carded for an aerial tackle on Brew and Tovey slotted the easy goal.\n",
        "The visitors could not make the most of their one-man advantage after the break as their error count cost them dearly.\n",
        "It was Glasgow's bench experience that showed when Mike Blair's break led to a short-range score from teenage prop Fagerson, converted by Clegg.\n",
        "Debutant Favaro was the second home player to be sin-binned, on 63 minutes, but again the Warriors made light of it as replacement wing Bulumakau, a recruit from the Army, pounced to deftly hack through a bouncing ball for an opportunist try.\n",
        "The Dragons got back within striking range with some excellent combined handling putting Hewitt over unopposed after 72 minutes.\n",
        "However, Favaro became sinner-turned-saint as he got on the end of another effective rolling maul to earn his side the extra point with the last move of the game, Clegg converting.\n",
        "Dragons director of rugby Lyn Jones said: \"We're disappointed to have lost but our performance was a lot better [than against Leinster] and the game could have gone either way.\n",
        "\"Unfortunately too many errors behind the scrum cost us a great deal, though from where we were a fortnight ago in Dublin our workrate and desire was excellent.\n",
        "\"It was simply error count from individuals behind the scrum that cost us field position, it's not rocket science - they were correct in how they played and we had a few errors, that was the difference.\"\n",
        "Glasgow Warriors: Rory Hughes, Taqele Naiyaravoro, Alex Dunbar, Fraser Lyle, Lee Jones, Rory Clegg, Grayson Hart; Alex Allan, Pat MacArthur, Zander Fagerson, Rob Harley (capt), Scott Cummings, Hugh Blake, Chris Fusaro, Adam Ashe.\n",
        "Replacements: Fergus Scott, Jerry Yanuyanutawa, Mike Cusack, Greg Peterson, Simone Favaro, Mike Blair, Gregor Hunter, Junior Bulumakau.\n",
        "Dragons: Carl Meyer, Ashton Hewitt, Ross Wardle, Adam Warren, Aled Brew, Jason Tovey, Sarel Pretorius; Boris Stankovich, Elliot Dee, Brok Harris, Nick Crosswell, Rynard Landman (capt), Lewis Evans, Nic Cudd, Ed Jackson.\n",
        "Replacements: Rhys Buckley, Phil Price, Shaun Knight, Matthew Screech, Ollie Griffiths, Luc Jones, Charlie Davies, Nick Scott.\n",
        "\"\"\"\n",
        ")"
      ],
      "outputs": [],
      "execution_count": null
    },
    {
      "cell_type": "code",
      "metadata": {},
      "source": [
        "categorize_article(\n",
        "    \"\"\"\n",
        "The full cost of damage in Newton Stewart, one of the areas worst affected, is still being assessed.\n",
        "Repair work is ongoing in Hawick and many roads in Peeblesshire remain badly affected by standing water.\n",
        "Trains on the west coast mainline face disruption due to damage at the Lamington Viaduct.\n",
        "Many businesses and householders were affected by flooding in Newton Stewart after the River Cree overflowed into the town.\n",
        "First Minister Nicola Sturgeon visited the area to inspect the damage.\n",
        "The waters breached a retaining wall, flooding many commercial properties on Victoria Street - the main shopping thoroughfare.\n",
        "Jeanette Tate, who owns the Cinnamon Cafe which was badly affected, said she could not fault the multi-agency response once the flood hit.\n",
        "However, she said more preventative work could have been carried out to ensure the retaining wall did not fail.\n",
        "\"It is difficult but I do think there is so much publicity for Dumfries and the Nith - and I totally appreciate that - but it is almost like we're neglected or forgotten,\" she said.\n",
        "\"That may not be true but it is perhaps my perspective over the last few days.\n",
        "\"Why were you not ready to help us a bit more when the warning and the alarm alerts had gone out?\"\n",
        "Meanwhile, a flood alert remains in place across the Borders because of the constant rain.\n",
        "Peebles was badly hit by problems, sparking calls to introduce more defences in the area.\n",
        "Scottish Borders Council has put a list on its website of the roads worst affected and drivers have been urged not to ignore closure signs.\n",
        "The Labour Party's deputy Scottish leader Alex Rowley was in Hawick on Monday to see the situation first hand.\n",
        "He said it was important to get the flood protection plan right but backed calls to speed up the process.\n",
        "\"I was quite taken aback by the amount of damage that has been done,\" he said.\n",
        "\"Obviously it is heart-breaking for people who have been forced out of their homes and the impact on businesses.\"\n",
        "He said it was important that \"immediate steps\" were taken to protect the areas most vulnerable and a clear timetable put in place for flood prevention plans.\n",
        "Have you been affected by flooding in Dumfries and Galloway or the Borders? Tell us about your experience of the situation and how it was handled. Email us on selkirk.news@bbc.co.uk or dumfries@bbc.co.uk.\n",
        "\"\"\"\n",
        ")"
      ],
      "outputs": [],
      "execution_count": null
    },
    {
      "cell_type": "markdown",
      "metadata": {},
      "source": [
        " ### Few-shot learning\n",
        "# MAGIC\n",
        "In few-shot learning tasks, you give the model an instruction, a few query-response examples of how to follow that instruction, and then a new query.  The model must generate the response for that new query.  This technique has pros and cons: it is very powerful and allows models to be reused for many more applications, but it can be finicky and require significant prompt engineering to get good and reliable results.\n",
        "# MAGIC\n",
        "**Background reading**: See the [Wikipedia page on few-shot learning](https://en.wikipedia.org/wiki/Few-shot_learning_&#40;natural_language_processing&#41;) or [this Hugging Face blog about few-shot learning](https://huggingface.co/blog/few-shot-learning-gpt-neo-and-inference-api).\n",
        "# MAGIC\n",
        "In this section, we will use:\n",
        "* **Task**: Few-shot learning can be applied to many tasks.  Here, we will do sentiment analysis, which was covered earlier.  However, you will see how few-shot learning allows us to specify custom labels, whereas the previous model was tuned for a specific set of labels.  We will also show other (toy) tasks at the end.  In terms of the Hugging Face `task` specified in the `pipeline` constructor, few-shot learning is handled as a `text-generation` task.\n",
        "* **Data**: We use a few examples, including a tweet example from the blog post linked above.\n",
        "* **Model**: [gpt-neo-1.3B](https://huggingface.co/EleutherAI/gpt-neo-1.3B), a version of the GPT-Neo model discussed in the blog linked above.  It is a transformer model with 1.3 billion parameters developed by Eleuther AI.  For more details, see the [code on GitHub](https://github.com/EleutherAI/gpt-neo) or the [research paper](https://arxiv.org/abs/2204.06745)."
      ]
    },
    {
      "cell_type": "code",
      "metadata": {},
      "source": [
        "# We will limit the response length for our few-shot learning tasks.\n",
        "few_shot_pipeline = pipeline(\n",
        "    task=\"text-generation\",\n",
        "    model=\"EleutherAI/gpt-neo-1.3B\",\n",
        "    max_new_tokens=10,\n",
        "    model_kwargs={\"cache_dir\": DA.paths.datasets},\n",
        ")"
      ],
      "outputs": [],
      "execution_count": null
    },
    {
      "cell_type": "markdown",
      "metadata": {},
      "source": [
        " ***Tip***: In the few-shot prompts below, we separate the examples with a special token \"###\" and use the same token to encourage the LLM to end its output after answering the query.  We will tell the pipeline to use that special token as the end-of-sequence (EOS) token below."
      ]
    },
    {
      "cell_type": "code",
      "metadata": {},
      "source": [
        "# Get the token ID for \"###\", which we will use as the EOS token below.\n",
        "eos_token_id = few_shot_pipeline.tokenizer.encode(\"###\")[0]"
      ],
      "outputs": [],
      "execution_count": null
    },
    {
      "cell_type": "code",
      "metadata": {},
      "source": [
        "# Without any examples, the model output is inconsistent and usually incorrect.\n",
        "results = few_shot_pipeline(\n",
        "    \"\"\"For each tweet, describe its sentiment:\n",
        "\n",
        "[Tweet]: \"This new music video was incredible\"\n",
        "[Sentiment]:\"\"\",\n",
        "    eos_token_id=eos_token_id,\n",
        ")\n",
        "\n",
        "print(results[0][\"generated_text\"])"
      ],
      "outputs": [],
      "execution_count": null
    },
    {
      "cell_type": "code",
      "metadata": {},
      "source": [
        "# With only 1 example, the model may or may not get the answer right.\n",
        "results = few_shot_pipeline(\n",
        "    \"\"\"For each tweet, describe its sentiment:\n",
        "\n",
        "[Tweet]: \"This is the link to the article\"\n",
        "[Sentiment]: Neutral\n",
        "###\n",
        "[Tweet]: \"This new music video was incredible\"\n",
        "[Sentiment]:\"\"\",\n",
        "    eos_token_id=eos_token_id,\n",
        ")\n",
        "\n",
        "print(results[0][\"generated_text\"])"
      ],
      "outputs": [],
      "execution_count": null
    },
    {
      "cell_type": "code",
      "metadata": {},
      "source": [
        "# With 1 example for each sentiment, the model is more likely to understand!\n",
        "results = few_shot_pipeline(\n",
        "    \"\"\"For each tweet, describe its sentiment:\n",
        "\n",
        "[Tweet]: \"I hate it when my phone battery dies.\"\n",
        "[Sentiment]: Negative\n",
        "###\n",
        "[Tweet]: \"My day has been \ud83d\udc4d\"\n",
        "[Sentiment]: Positive\n",
        "###\n",
        "[Tweet]: \"This is the link to the article\"\n",
        "[Sentiment]: Neutral\n",
        "###\n",
        "[Tweet]: \"This new music video was incredible\"\n",
        "[Sentiment]:\"\"\",\n",
        "    eos_token_id=eos_token_id,\n",
        ")\n",
        "\n",
        "print(results[0][\"generated_text\"])"
      ],
      "outputs": [],
      "execution_count": null
    },
    {
      "cell_type": "markdown",
      "metadata": {},
      "source": [
        " Just for fun, we show a few more examples below."
      ]
    },
    {
      "cell_type": "code",
      "metadata": {},
      "source": [
        "# The model isn't ready to serve drinks!\n",
        "results = few_shot_pipeline(\n",
        "    \"\"\"For each food, suggest a good drink pairing:\n",
        "\n",
        "[food]: tapas\n",
        "[drink]: wine\n",
        "###\n",
        "[food]: pizza\n",
        "[drink]: soda\n",
        "###\n",
        "[food]: jalapenos poppers\n",
        "[drink]: beer\n",
        "###\n",
        "[food]: scone\n",
        "[drink]:\"\"\",\n",
        "    eos_token_id=eos_token_id,\n",
        ")\n",
        "\n",
        "print(results[0][\"generated_text\"])"
      ],
      "outputs": [],
      "execution_count": null
    },
    {
      "cell_type": "code",
      "metadata": {},
      "source": [
        "# This example sometimes works and sometimes does not, when sampling.  Too abstract?\n",
        "results = few_shot_pipeline(\n",
        "    \"\"\"Given a word describing how someone is feeling, suggest a description of that person.  The description should not include the original word.\n",
        "\n",
        "[word]: happy\n",
        "[description]: smiling, laughing, clapping\n",
        "###\n",
        "[word]: nervous\n",
        "[description]: glancing around quickly, sweating, fidgeting\n",
        "###\n",
        "[word]: sleepy\n",
        "[description]: heavy-lidded, slumping, rubbing eyes\n",
        "###\n",
        "[word]: confused\n",
        "[description]:\"\"\",\n",
        "    eos_token_id=eos_token_id,\n",
        ")\n",
        "\n",
        "print(results[0][\"generated_text\"])"
      ],
      "outputs": [],
      "execution_count": null
    },
    {
      "cell_type": "code",
      "metadata": {},
      "source": [
        "# We override max_new_tokens to generate longer answers.\n",
        "# These book descriptions were taken from their corresponding Wikipedia pages.\n",
        "results = few_shot_pipeline(\n",
        "    \"\"\"Generate a book summary from the title:\n",
        "\n",
        "[book title]: \"Stranger in a Strange Land\"\n",
        "[book description]: \"This novel tells the story of Valentine Michael Smith, a human who comes to Earth in early adulthood after being born on the planet Mars and raised by Martians, and explores his interaction with and eventual transformation of Terran culture.\"\n",
        "###\n",
        "[book title]: \"The Adventures of Tom Sawyer\"\n",
        "[book description]: \"This novel is about a boy growing up along the Mississippi River. It is set in the 1840s in the town of St. Petersburg, which is based on Hannibal, Missouri, where Twain lived as a boy. In the novel, Tom Sawyer has several adventures, often with his friend Huckleberry Finn.\"\n",
        "###\n",
        "[book title]: \"Dune\"\n",
        "[book description]: \"This novel is set in the distant future amidst a feudal interstellar society in which various noble houses control planetary fiefs. It tells the story of young Paul Atreides, whose family accepts the stewardship of the planet Arrakis. While the planet is an inhospitable and sparsely populated desert wasteland, it is the only source of melange, or spice, a drug that extends life and enhances mental abilities.  The story explores the multilayered interactions of politics, religion, ecology, technology, and human emotion, as the factions of the empire confront each other in a struggle for the control of Arrakis and its spice.\"\n",
        "###\n",
        "[book title]: \"Blue Mars\"\n",
        "[book description]:\"\"\",\n",
        "    eos_token_id=eos_token_id,\n",
        "    max_new_tokens=50,\n",
        ")\n",
        "\n",
        "print(results[0][\"generated_text\"])"
      ],
      "outputs": [],
      "execution_count": null
    },
    {
      "cell_type": "markdown",
      "metadata": {},
      "source": [
        " **Prompt engineering** is a new but critical technique for working with LLMs.  You saw some brief examples above.  As you use more general and powerful models, constructing good prompts becomes ever more important.  Some great resources to learn more are:\n",
        "* [Wikipedia](https://en.wikipedia.org/wiki/Prompt_engineering) for a brief overview\n",
        "* [Best practices for prompt engineering with OpenAI API](https://help.openai.com/en/articles/6654000-best-practices-for-prompt-engineering-with-openai-api)\n",
        "* [\ud83e\udde0 Awesome ChatGPT Prompts](https://github.com/f/awesome-chatgpt-prompts) for fun examples with ChatGPT"
      ]
    },
    {
      "cell_type": "markdown",
      "metadata": {},
      "source": [
        " ## Hugging Face APIs\n",
        "# MAGIC\n",
        "In this section, we dive into some more details on Hugging Face APIs.\n",
        "* Search and sampling to generate text\n",
        "* Auto* loaders for tokenizers and models\n",
        "* Model-specific loaders\n",
        "# MAGIC\n",
        "Recall the `xsum` dataset from the **Summarization** section above:"
      ]
    },
    {
      "cell_type": "code",
      "metadata": {},
      "source": [
        "display(xsum_sample.to_pandas())"
      ],
      "outputs": [],
      "execution_count": null
    },
    {
      "cell_type": "markdown",
      "metadata": {},
      "source": [
        " ### Search and sampling in inference\n",
        "# MAGIC\n",
        "You may see parameters like `num_beams`, `do_sample`, etc. specified in Hugging Face pipelines.  These are inference configurations.\n",
        "# MAGIC\n",
        "LLMs work by predicting (generating) the next token, then the next, and so on.  The goal is to generate a high probability sequence of tokens, which is essentially a search through the (enormous) space of potential sequences.\n",
        "# MAGIC\n",
        "To do this search, LLMs use one of two main methods:\n",
        "* **Search**: Given the tokens generated so far, pick the next most likely token in a \"search.\"\n",
        "   * **Greedy search** (default): Pick the single next most likely token in a greedy search.\n",
        "   * **Beam search**: Greedy search can be extended via beam search, which searches down several sequence paths, via the parameter `num_beams`.\n",
        "* **Sampling**: Given the tokens generated so far, pick the next token by sampling from the predicted distribution of tokens.\n",
        "   * **Top-K sampling**: The parameter `top_k` modifies sampling by limiting it to the `k` most likely tokens.\n",
        "   * **Top-p sampling**: The parameter `top_p` modifies sampling by limiting it to the most likely tokens up to probability mass `p`.\n",
        "# MAGIC\n",
        "You can toggle between search and sampling via parameter `do_sample`.\n",
        "# MAGIC\n",
        "For more background on search and sampling, see [this Hugging Face blog post](https://huggingface.co/blog/how-to-generate).\n",
        "# MAGIC\n",
        "We will illustrate these various options below using our summarization pipeline."
      ]
    },
    {
      "cell_type": "code",
      "metadata": {},
      "source": [
        "# We previously called the summarization pipeline using the default inference configuration.\n",
        "# This does greedy search.\n",
        "summarizer(xsum_sample[\"document\"][0])"
      ],
      "outputs": [],
      "execution_count": null
    },
    {
      "cell_type": "code",
      "metadata": {},
      "source": [
        "# We can instead do a beam search by specifying num_beams.\n",
        "# This takes longer to run, but it might find a better (more likely) sequence of text.\n",
        "summarizer(xsum_sample[\"document\"][0], num_beams=10)"
      ],
      "outputs": [],
      "execution_count": null
    },
    {
      "cell_type": "code",
      "metadata": {},
      "source": [
        "# Alternatively, we could use sampling.\n",
        "summarizer(xsum_sample[\"document\"][0], do_sample=True)"
      ],
      "outputs": [],
      "execution_count": null
    },
    {
      "cell_type": "code",
      "metadata": {},
      "source": [
        "# We can modify sampling to be more greedy by limiting sampling to the top_k or top_p most likely next tokens.\n",
        "summarizer(xsum_sample[\"document\"][0], do_sample=True, top_k=10, top_p=0.8)"
      ],
      "outputs": [],
      "execution_count": null
    },
    {
      "cell_type": "markdown",
      "metadata": {},
      "source": [
        " ### Auto* loaders for tokenizers and models\n",
        "# MAGIC\n",
        "We have already seen the `dataset` and `pipeline` abstractions from Hugging Face.  While a `pipeline` is a quick way to set up an LLM for a given task, the slightly lower-level abstractions `model` and `tokenizer` permit a bit more control over options.  We will show how to use those briefly, following this pattern:\n",
        "# MAGIC\n",
        "* Given input articles.\n",
        "* Tokenize them (converting to token indices).\n",
        "* Apply the model on the tokenized data to generate summaries (represented as token indices).\n",
        "* Decode the summaries into human-readable text.\n",
        "# MAGIC\n",
        "We will first look at the [Auto* classes](https://huggingface.co/docs/transformers/model_doc/auto) for tokenizers and model types which can simplify loading pre-trained tokenizers and models.\n",
        "# MAGIC\n",
        "API docs:\n",
        "* [AutoTokenizer](https://huggingface.co/docs/transformers/main/en/model_doc/auto#transformers.AutoTokenizer)\n",
        "* [AutoModelForSeq2SeqLM](https://huggingface.co/docs/transformers/main/en/model_doc/auto#transformers.AutoModelForSeq2SeqLM)"
      ]
    },
    {
      "cell_type": "code",
      "metadata": {},
      "source": [
        "from transformers import AutoTokenizer, AutoModelForSeq2SeqLM\n",
        "\n",
        "# Load the pre-trained tokenizer and model.\n",
        "tokenizer = AutoTokenizer.from_pretrained(\"t5-small\", cache_dir=DA.paths.datasets)\n",
        "model = AutoModelForSeq2SeqLM.from_pretrained(\"t5-small\", cache_dir=DA.paths.datasets)"
      ],
      "outputs": [],
      "execution_count": null
    },
    {
      "cell_type": "code",
      "metadata": {},
      "source": [
        "# For summarization, T5-small expects a prefix \"summarize: \", so we prepend that to each article as a prompt.\n",
        "articles = list(map(lambda article: \"summarize: \" + article, xsum_sample[\"document\"]))\n",
        "display(pd.DataFrame(articles, columns=[\"prompts\"]))"
      ],
      "outputs": [],
      "execution_count": null
    },
    {
      "cell_type": "code",
      "metadata": {},
      "source": [
        "# Tokenize the input\n",
        "inputs = tokenizer(\n",
        "    articles, max_length=1024, return_tensors=\"pt\", padding=True, truncation=True\n",
        ")\n",
        "print(\"input_ids:\")\n",
        "print(inputs[\"input_ids\"])\n",
        "print(\"attention_mask:\")\n",
        "print(inputs[\"attention_mask\"])"
      ],
      "outputs": [],
      "execution_count": null
    },
    {
      "cell_type": "code",
      "metadata": {},
      "source": [
        "# Generate summaries\n",
        "summary_ids = model.generate(\n",
        "    inputs.input_ids,\n",
        "    attention_mask=inputs.attention_mask,\n",
        "    num_beams=2,\n",
        "    min_length=0,\n",
        "    max_length=40,\n",
        ")\n",
        "print(summary_ids)"
      ],
      "outputs": [],
      "execution_count": null
    },
    {
      "cell_type": "code",
      "metadata": {},
      "source": [
        "# Decode the generated summaries\n",
        "decoded_summaries = tokenizer.batch_decode(summary_ids, skip_special_tokens=True)\n",
        "display(pd.DataFrame(decoded_summaries, columns=[\"decoded_summaries\"]))"
      ],
      "outputs": [],
      "execution_count": null
    },
    {
      "cell_type": "markdown",
      "metadata": {},
      "source": [
        " ### Model-specific tokenizer and model loaders\n",
        "# MAGIC\n",
        "You can also more directly load specific tokenizer and model types, rather than relying on `Auto*` classes to choose the right ones for you.\n",
        "# MAGIC\n",
        "API docs:\n",
        "* [T5Tokenizer](https://huggingface.co/docs/transformers/main/en/model_doc/t5#transformers.T5Tokenizer)\n",
        "* [T5ForConditionalGeneration](https://huggingface.co/docs/transformers/main/en/model_doc/t5#transformers.T5ForConditionalGeneration)"
      ]
    },
    {
      "cell_type": "code",
      "metadata": {},
      "source": [
        "from transformers import T5Tokenizer, T5ForConditionalGeneration\n",
        "\n",
        "tokenizer = T5Tokenizer.from_pretrained(\"t5-small\", cache_dir=DA.paths.datasets)\n",
        "model = T5ForConditionalGeneration.from_pretrained(\n",
        "    \"t5-small\", cache_dir=DA.paths.datasets\n",
        ")"
      ],
      "outputs": [],
      "execution_count": null
    },
    {
      "cell_type": "code",
      "metadata": {},
      "source": [
        "# The tokenizer and model can then be used similarly to how we used the ones loaded by the Auto* classes.\n",
        "inputs = tokenizer(\n",
        "    articles, max_length=1024, return_tensors=\"pt\", padding=True, truncation=True\n",
        ")\n",
        "summary_ids = model.generate(\n",
        "    inputs.input_ids,\n",
        "    attention_mask=inputs.attention_mask,\n",
        "    num_beams=2,\n",
        "    min_length=0,\n",
        "    max_length=40,\n",
        ")\n",
        "decoded_summaries = tokenizer.batch_decode(summary_ids, skip_special_tokens=True)\n",
        "\n",
        "display(pd.DataFrame(decoded_summaries, columns=[\"decoded_summaries\"]))"
      ],
      "outputs": [],
      "execution_count": null
    },
    {
      "cell_type": "markdown",
      "metadata": {},
      "source": [
        " ## Summary\n",
        "# MAGIC\n",
        "We've covered some common LLM applications and seen how to get started with them quickly using pre-trained models from the Hugging Face Hub.  We've also see how to tweak some configurations.\n",
        "# MAGIC\n",
        "But how did we find those models for our tasks?  In the lab, you will find new pre-trained models for tasks, using the Hugging Face Hub.  You will also explore tweaking model configurations to gain intuition about their effects."
      ]
    },
    {
      "cell_type": "markdown",
      "metadata": {},
      "source": [
        "-sandbox\n",
        "&copy; 2023 Databricks, Inc. All rights reserved.<br/>\n",
        "Apache, Apache Spark, Spark and the Spark logo are trademarks of the <a href=\"https://www.apache.org/\">Apache Software Foundation</a>.<br/>\n",
        "<br/>\n",
        "<a href=\"https://databricks.com/privacy-policy\">Privacy Policy</a> | <a href=\"https://databricks.com/terms-of-use\">Terms of Use</a> | <a href=\"https://help.databricks.com/\">Support</a>"
      ]
    }
  ],
  "metadata": {
    "anaconda-cloud": {},
    "kernelspec": {
      "display_name": "Python 3",
      "language": "python",
      "name": "python3"
    },
    "language_info": {
      "codemirror_mode": {
        "name": "ipython",
        "version": 3
      },
      "file_extension": ".py",
      "mimetype": "text/x-python",
      "name": "python",
      "nbconvert_exporter": "python",
      "pygments_lexer": "ipython3",
      "version": "3.6.1"
    }
  },
  "nbformat": 4,
  "nbformat_minor": 1
}