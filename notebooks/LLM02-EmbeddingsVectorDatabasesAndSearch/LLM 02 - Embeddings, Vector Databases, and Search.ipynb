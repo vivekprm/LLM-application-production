{
  "cells": [
    {
      "cell_type": "markdown",
      "metadata": {},
      "source": [
        "-sandbox\n",
        "# MAGIC\n",
        "<div style=\"text-align: center; line-height: 0; padding-top: 9px;\">\n",
        "  <img src=\"https://databricks.com/wp-content/uploads/2018/03/db-academy-rgb-1200px.png\" alt=\"Databricks Learning\" style=\"width: 600px\">\n",
        "</div>"
      ]
    },
    {
      "cell_type": "markdown",
      "metadata": {},
      "source": [
        "# MAGIC\n",
        "# Embeddings, Vector Databases, and Search\n",
        "# MAGIC\n",
        "Converting text into embedding vectors is the first step to any text processing pipeline. As the amount of text gets larger, there is often a need to save these embedding vectors into a dedicated vector index or library, so that developers won't have to recompute the embeddings and the retrieval process is faster. We can then search for documents based on our intended query and pass these relevant documents into a language model (LM) as additional context. We also refer to this context as supplying the LM with \"state\" or \"memory\". The LM then generates a response based on the additional context it receives! \n",
        "# MAGIC\n",
        "In this notebook, we will implement the full workflow of text vectorization, vector search, and question answering workflow. While we use [FAISS](https://faiss.ai/) (vector library) and [ChromaDB](https://docs.trychroma.com/) (vector database), and a Hugging Face model, know that you can easily swap these tools out for your preferred tools or models!\n",
        "# MAGIC\n",
        "<img src=\"https://files.training.databricks.com/images/llm/updated_vector_search.png\" width=1000 target=\"_blank\" > \n",
        "# MAGIC\n",
        "### ![Dolly](https://files.training.databricks.com/images/llm/dolly_small.png) Learning Objectives\n",
        "1. Implement the workflow of reading text, converting text to embeddings, saving them to FAISS and ChromaDB \n",
        "2. Query for similar documents using FAISS and ChromaDB \n",
        "3. Apply a Hugging Face language model for question answering!"
      ]
    },
    {
      "cell_type": "code",
      "metadata": {},
      "source": [
        "# MAGIC %pip install faiss-cpu==1.7.4 chromadb==0.3.21"
      ],
      "outputs": [],
      "execution_count": null
    },
    {
      "cell_type": "markdown",
      "metadata": {},
      "source": [
        "# MAGIC\n",
        "## Classroom Setup"
      ]
    },
    {
      "cell_type": "code",
      "metadata": {},
      "source": [
        "# MAGIC %run ../Includes/Classroom-Setup"
      ],
      "outputs": [],
      "execution_count": null
    },
    {
      "cell_type": "markdown",
      "metadata": {},
      "source": [
        "## Step 1: Reading data\n",
        "# MAGIC\n",
        "In this section, we are going to use the data on <a href=\"https://newscatcherapi.com/\" target=\"_blank\">news topics collected by the NewsCatcher team</a>, who collect and index news articles and release them to the open-source community. The dataset can be downloaded from <a href=\"https://www.kaggle.com/kotartemiy/topic-labeled-news-dataset\" target=\"_blank\">Kaggle</a>."
      ]
    },
    {
      "cell_type": "code",
      "metadata": {},
      "source": [
        "import pandas as pd\n",
        "\n",
        "pdf = pd.read_csv(f\"{DA.paths.datasets}/news/labelled_newscatcher_dataset.csv\", sep=\";\")\n",
        "pdf[\"id\"] = pdf.index\n",
        "display(pdf)"
      ],
      "outputs": [],
      "execution_count": null
    },
    {
      "cell_type": "markdown",
      "metadata": {},
      "source": [
        "## Vector Library: FAISS\n",
        "# MAGIC\n",
        "Vector libraries are often sufficient for small, static data. Since it's not a full-fledged database solution, it doesn't have the CRUD (Create, Read, Update, Delete) support. Once the index has been built, if there are more vectors that need to be added/removed/edited, the index has to be rebuilt from scratch. \n",
        "# MAGIC\n",
        "That said, vector libraries are easy, lightweight, and fast to use. Examples of vector libraries are [FAISS](https://faiss.ai/), [ScaNN](https://github.com/google-research/google-research/tree/master/scann), [ANNOY](https://github.com/spotify/annoy), and [HNSM](https://arxiv.org/abs/1603.09320).\n",
        "# MAGIC\n",
        "FAISS has several ways for similarity search: L2 (Euclidean distance), cosine similarity. You can read more about their implementation on their [GitHub](https://github.com/facebookresearch/faiss/wiki/Getting-started#searching) page or [blog post](https://engineering.fb.com/2017/03/29/data-infrastructure/faiss-a-library-for-efficient-similarity-search/). They also published their own [best practice guide here](https://github.com/facebookresearch/faiss/wiki/Guidelines-to-choose-an-index).\n",
        "# MAGIC\n",
        "If you'd like to read up more on the comparisons between vector libraries and databases, [here is a good blog post](https://weaviate.io/blog/vector-library-vs-vector-database#feature-comparison---library-versus-database)."
      ]
    },
    {
      "cell_type": "markdown",
      "metadata": {},
      "source": [
        "The overall workflow of FAISS is captured in the diagram below. \n",
        "# MAGIC\n",
        "<img src=\"https://miro.medium.com/v2/resize:fit:1400/0*ouf0eyQskPeGWIGm\" width=700>\n",
        "# MAGIC\n",
        "Source: [How to use FAISS to build your first similarity search by Asna Shafiq](https://medium.com/loopio-tech/how-to-use-faiss-to-build-your-first-similarity-search-bf0f708aa772)."
      ]
    },
    {
      "cell_type": "code",
      "metadata": {},
      "source": [
        "from sentence_transformers import InputExample\n",
        "\n",
        "pdf_subset = pdf.head(1000)\n",
        "\n",
        "def example_create_fn(doc1: pd.Series) -> InputExample:\n",
        "    \"\"\"\n",
        "    Helper function that outputs a sentence_transformer guid, label, and text\n",
        "    \"\"\"\n",
        "    return InputExample(texts=[doc1])\n",
        "\n",
        "faiss_train_examples = pdf_subset.apply(\n",
        "    lambda x: example_create_fn(x[\"title\"]), axis=1\n",
        ").tolist()"
      ],
      "outputs": [],
      "execution_count": null
    },
    {
      "cell_type": "markdown",
      "metadata": {},
      "source": [
        "# MAGIC\n",
        "### Step 2: Vectorize text into embedding vectors\n",
        "We will be using `Sentence-Transformers` [library](https://www.sbert.net/) to load a language model to vectorize our text into embeddings. The library hosts some of the most popular transformers on [Hugging Face Model Hub](https://huggingface.co/sentence-transformers).\n",
        "Here, we are using the `model = SentenceTransformer(\"all-MiniLM-L6-v2\")` to generate embeddings."
      ]
    },
    {
      "cell_type": "code",
      "metadata": {},
      "source": [
        "from sentence_transformers import SentenceTransformer\n",
        "\n",
        "model = SentenceTransformer(\n",
        "    \"all-MiniLM-L6-v2\", \n",
        "    cache_folder=DA.paths.datasets\n",
        ")  # Use a pre-cached model\n",
        "faiss_title_embedding = model.encode(pdf_subset.title.values.tolist())\n",
        "len(faiss_title_embedding), len(faiss_title_embedding[0])"
      ],
      "outputs": [],
      "execution_count": null
    },
    {
      "cell_type": "markdown",
      "metadata": {},
      "source": [
        "# MAGIC\n",
        "### Step 3: Saving embedding vectors to FAISS index\n",
        "Below, we create the FAISS index object based on our embedding vectors, normalize vectors, and add these vectors to the FAISS index. "
      ]
    },
    {
      "cell_type": "code",
      "metadata": {},
      "source": [
        "import numpy as np\n",
        "import faiss\n",
        "\n",
        "pdf_to_index = pdf_subset.set_index([\"id\"], drop=False)\n",
        "id_index = np.array(pdf_to_index.id.values).flatten().astype(\"int\")\n",
        "\n",
        "content_encoded_normalized = faiss_title_embedding.copy()\n",
        "faiss.normalize_L2(content_encoded_normalized)\n",
        "\n",
        "# Index1DMap translates search results to IDs: https://faiss.ai/cpp_api/file/IndexIDMap_8h.html#_CPPv4I0EN5faiss18IndexIDMapTemplateE\n",
        "# The IndexFlatIP below builds index\n",
        "index_content = faiss.IndexIDMap(faiss.IndexFlatIP(len(faiss_title_embedding[0])))\n",
        "index_content.add_with_ids(content_encoded_normalized, id_index)"
      ],
      "outputs": [],
      "execution_count": null
    },
    {
      "cell_type": "markdown",
      "metadata": {},
      "source": [
        "## Step 4: Search for relevant documents\n",
        "# MAGIC\n",
        "We define a search function below to first vectorize our query text, and then search for the vectors with the closest distance. "
      ]
    },
    {
      "cell_type": "code",
      "metadata": {},
      "source": [
        "def search_content(query, pdf_to_index, k=3):\n",
        "    query_vector = model.encode([query])\n",
        "    faiss.normalize_L2(query_vector)\n",
        "\n",
        "    # We set k to limit the number of vectors we want to return\n",
        "    top_k = index_content.search(query_vector, k)\n",
        "    ids = top_k[1][0].tolist()\n",
        "    similarities = top_k[0][0].tolist()\n",
        "    results = pdf_to_index.loc[ids]\n",
        "    results[\"similarities\"] = similarities\n",
        "    return results"
      ],
      "outputs": [],
      "execution_count": null
    },
    {
      "cell_type": "markdown",
      "metadata": {},
      "source": [
        "Tada! Now you can query for similar content! Notice that you did not have to configure any database networks beforehand nor pass in any credentials. FAISS works locally with your code."
      ]
    },
    {
      "cell_type": "code",
      "metadata": {},
      "source": [
        "display(search_content(\"animal\", pdf_to_index))"
      ],
      "outputs": [],
      "execution_count": null
    },
    {
      "cell_type": "markdown",
      "metadata": {},
      "source": [
        "Up until now, we haven't done the last step of conducting Q/A with a language model yet. We are going to demonstrate this with Chroma, a vector database."
      ]
    },
    {
      "cell_type": "markdown",
      "metadata": {},
      "source": [
        "## Vector Database: Chroma\n",
        "# MAGIC\n",
        "Chroma is an open-source embedding database. The company just raised its [seed funding in April 2023](https://www.trychroma.com/blog/seed) and is quickly becoming popular to support LLM-based applications. "
      ]
    },
    {
      "cell_type": "code",
      "metadata": {},
      "source": [
        "import chromadb\n",
        "from chromadb.config import Settings\n",
        "\n",
        "chroma_client = chromadb.Client(\n",
        "    Settings(\n",
        "        chroma_db_impl=\"duckdb+parquet\",\n",
        "        persist_directory=DA.paths.user_db,  # this is an optional argument. If you don't supply this, the data will be ephemeral\n",
        "    )\n",
        ")"
      ],
      "outputs": [],
      "execution_count": null
    },
    {
      "cell_type": "markdown",
      "metadata": {},
      "source": [
        "# MAGIC\n",
        "### Chroma Concept: Collection\n",
        "# MAGIC\n",
        "Chroma `collection` is akin to an index that stores one set of your documents. \n",
        "# MAGIC\n",
        "According to the [docs](https://docs.trychroma.com/getting-started): \n",
        "> Collections are where you will store your embeddings, documents, and additional metadata\n",
        "# MAGIC\n",
        "The nice thing about ChromaDB is that if you don't supply a model to vectorize text into embeddings, it will automatically load a default embedding function, i.e. `SentenceTransformerEmbeddingFunction`. It can handle tokenization, embedding, and indexing automatically for you. If you would like to change the embedding model, read [here on how to do that](https://docs.trychroma.com/embeddings). TLDR: you can add an optional `model_name` argument. \n",
        "# MAGIC\n",
        "You can read [the documentation here](https://docs.trychroma.com/usage-guide#using-collections) on rules for collection names."
      ]
    },
    {
      "cell_type": "code",
      "metadata": {},
      "source": [
        "collection_name = \"my_news\"\n",
        "\n",
        "# If you have created the collection before, you need to delete the collection first\n",
        "if len(chroma_client.list_collections()) > 0 and collection_name in [chroma_client.list_collections()[0].name]:\n",
        "    chroma_client.delete_collection(name=collection_name)\n",
        "\n",
        "print(f\"Creating collection: '{collection_name}'\")\n",
        "collection = chroma_client.create_collection(name=collection_name)"
      ],
      "outputs": [],
      "execution_count": null
    },
    {
      "cell_type": "markdown",
      "metadata": {},
      "source": [
        "### Step 1: Add data to collection\n",
        "# MAGIC\n",
        "Since we are re-using the same data, we can skip the step of reading data. As mentioned in the text above, Chroma can take care of text vectorization for us, so we can directly add text to the collection and Chroma will convert the text into embeddings behind the scene. "
      ]
    },
    {
      "cell_type": "code",
      "metadata": {},
      "source": [
        "display(pdf_subset)"
      ],
      "outputs": [],
      "execution_count": null
    },
    {
      "cell_type": "markdown",
      "metadata": {},
      "source": [
        "Each document must have a unique `id` associated with it and it is up to you to check that there are no duplicate ids. \n",
        "# MAGIC\n",
        "Adding data to collection will take some time to run, especially when there is a lot of data. In the cell below, we intentionally write only a subset of data to the collection to speed things up. "
      ]
    },
    {
      "cell_type": "code",
      "metadata": {},
      "source": [
        "collection.add(\n",
        "    documents=pdf_subset[\"title\"][:100].tolist(),\n",
        "    metadatas=[{\"topic\": topic} for topic in pdf_subset[\"topic\"][:100].tolist()],\n",
        "    ids=[f\"id{x}\" for x in range(100)],\n",
        ")"
      ],
      "outputs": [],
      "execution_count": null
    },
    {
      "cell_type": "markdown",
      "metadata": {},
      "source": [
        "### Step 2: Query for 10 relevant documents on \"space\"\n",
        "# MAGIC\n",
        "We will return 10 most relevant documents. You can think of `10` as 10 nearest neighbors. You can also change the number of results returned as well. "
      ]
    },
    {
      "cell_type": "code",
      "metadata": {},
      "source": [
        "import json\n",
        "\n",
        "results = collection.query(query_texts=[\"space\"], n_results=10)\n",
        "\n",
        "print(json.dumps(results, indent=4))"
      ],
      "outputs": [],
      "execution_count": null
    },
    {
      "cell_type": "markdown",
      "metadata": {},
      "source": [
        "### Bonus: Add filter statement\n",
        "# MAGIC\n",
        "In addition to conducting relevancy search, we can also add filter statements. Refer to the [documentation](https://docs.trychroma.com/usage-guide#using-where-filters) for more information."
      ]
    },
    {
      "cell_type": "code",
      "metadata": {},
      "source": [
        "collection.query(query_texts=[\"space\"], where={\"topic\": \"SCIENCE\"}, n_results=10)"
      ],
      "outputs": [],
      "execution_count": null
    },
    {
      "cell_type": "markdown",
      "metadata": {},
      "source": [
        "### Bonus: Update data in a collection\n",
        "# MAGIC\n",
        "Unlike a vector library, vector databases support changes to the data so we can update or delete data. \n",
        "# MAGIC\n",
        "Indeed, we can update or delete data in a Chroma collection. "
      ]
    },
    {
      "cell_type": "code",
      "metadata": {},
      "source": [
        "collection.delete(ids=[\"id0\"])"
      ],
      "outputs": [],
      "execution_count": null
    },
    {
      "cell_type": "markdown",
      "metadata": {},
      "source": [
        "The record with `ids=0` is no longer present."
      ]
    },
    {
      "cell_type": "code",
      "metadata": {},
      "source": [
        "collection.get(\n",
        "    ids=[\"id0\"],\n",
        ")"
      ],
      "outputs": [],
      "execution_count": null
    },
    {
      "cell_type": "markdown",
      "metadata": {},
      "source": [
        "We can also update a specific data point."
      ]
    },
    {
      "cell_type": "code",
      "metadata": {},
      "source": [
        "collection.get(\n",
        "    ids=[\"id2\"],\n",
        ")"
      ],
      "outputs": [],
      "execution_count": null
    },
    {
      "cell_type": "code",
      "metadata": {},
      "source": [
        "collection.update(\n",
        "    ids=[\"id2\"],\n",
        "    metadatas=[{\"topic\": \"TECHNOLOGY\"}],\n",
        ")"
      ],
      "outputs": [],
      "execution_count": null
    },
    {
      "cell_type": "markdown",
      "metadata": {},
      "source": [
        "## Prompt engineering for question answering \n",
        "# MAGIC\n",
        "Now that we have identified documents about space from the news dataset, we can pass these documents as additional context for a language model to generate a response based on them! \n",
        "# MAGIC\n",
        "We first need to pick a `text-generation` model. Below, we use a Hugging Face model. You can also use OpenAI as well, but you will need to get an Open AI token and [pay based on the number of tokens](https://openai.com/pricing). "
      ]
    },
    {
      "cell_type": "code",
      "metadata": {},
      "source": [
        "from transformers import AutoTokenizer, AutoModelForCausalLM, pipeline\n",
        "\n",
        "model_id = \"gpt2\"\n",
        "tokenizer = AutoTokenizer.from_pretrained(model_id, cache_dir=DA.paths.datasets)\n",
        "lm_model = AutoModelForCausalLM.from_pretrained(model_id, cache_dir=DA.paths.datasets)\n",
        "\n",
        "pipe = pipeline(\n",
        "    \"text-generation\",\n",
        "    model=lm_model,\n",
        "    tokenizer=tokenizer,\n",
        "    max_new_tokens=512,\n",
        "    device_map=\"auto\",\n",
        ")"
      ],
      "outputs": [],
      "execution_count": null
    },
    {
      "cell_type": "markdown",
      "metadata": {},
      "source": [
        "Here's where prompt engineering, which is developing prompts, comes in. We pass in the context in our `prompt_template` but there are numerous ways to write a prompt. Some prompts may generate better results than the others and it requires some experimentation to figure out how best to talk to the model. Each language model behaves differently to prompts. \n",
        "# MAGIC\n",
        "Our prompt template below is inspired from a [2023 paper on program-aided language model](https://arxiv.org/pdf/2211.10435.pdf). The authors have provided their sample prompt template [here](https://github.com/reasoning-machines/pal/blob/main/pal/prompt/date_understanding_prompt.py).\n",
        "# MAGIC\n",
        "The following links also provide some helpful guidance on prompt engineering: \n",
        "- [Prompt engineering with OpenAI](https://help.openai.com/en/articles/6654000-best-practices-for-prompt-engineering-with-openai-api)\n",
        "- [GitHub repo that compiles best practices to interact with ChatGPT](https://github.com/f/awesome-chatgpt-prompts)"
      ]
    },
    {
      "cell_type": "code",
      "metadata": {},
      "source": [
        "question = \"What's the latest news on space development?\"\n",
        "context = \" \".join([f\"#{str(i)}\" for i in results[\"documents\"][0]])\n",
        "prompt_template = f\"Relevant context: {context}\\n\\n The user's question: {question}\""
      ],
      "outputs": [],
      "execution_count": null
    },
    {
      "cell_type": "code",
      "metadata": {},
      "source": [
        "lm_response = pipe(prompt_template)\n",
        "print(lm_response[0][\"generated_text\"])"
      ],
      "outputs": [],
      "execution_count": null
    },
    {
      "cell_type": "markdown",
      "metadata": {},
      "source": [
        "# MAGIC\n",
        "Yay, you have just completed the implementation of your first text vectorization, search, and question answering workflow (that requires prompt engineering)!\n",
        "# MAGIC\n",
        "In the lab, you will apply your newly gained knowledge to a different dataset. You can also check out the optional modules on Pinecone and Weaviate to learn how to set up vector databases that offer enterprise offerings."
      ]
    },
    {
      "cell_type": "markdown",
      "metadata": {},
      "source": [
        "-sandbox\n",
        "&copy; 2023 Databricks, Inc. All rights reserved.<br/>\n",
        "Apache, Apache Spark, Spark and the Spark logo are trademarks of the <a href=\"https://www.apache.org/\">Apache Software Foundation</a>.<br/>\n",
        "<br/>\n",
        "<a href=\"https://databricks.com/privacy-policy\">Privacy Policy</a> | <a href=\"https://databricks.com/terms-of-use\">Terms of Use</a> | <a href=\"https://help.databricks.com/\">Support</a>"
      ]
    }
  ],
  "metadata": {
    "anaconda-cloud": {},
    "kernelspec": {
      "display_name": "Python 3",
      "language": "python",
      "name": "python3"
    },
    "language_info": {
      "codemirror_mode": {
        "name": "ipython",
        "version": 3
      },
      "file_extension": ".py",
      "mimetype": "text/x-python",
      "name": "python",
      "nbconvert_exporter": "python",
      "pygments_lexer": "ipython3",
      "version": "3.6.1"
    }
  },
  "nbformat": 4,
  "nbformat_minor": 1
}